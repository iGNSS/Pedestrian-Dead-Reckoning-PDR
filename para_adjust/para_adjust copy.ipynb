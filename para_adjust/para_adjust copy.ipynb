{
 "cells": [
  {
   "cell_type": "code",
   "execution_count": 1,
   "metadata": {},
   "outputs": [],
   "source": [
    "import pandas as pd\n",
    "from tqdm import tqdm\n",
    "import json"
   ]
  },
  {
   "cell_type": "code",
   "execution_count": 2,
   "metadata": {},
   "outputs": [],
   "source": [
    "temp = pd.read_csv(\"result.csv\")\n",
    "temp = temp[temp[\"dir_ratio\"] <= 0.5]\n",
    "EXCLUDE=temp[\"dataset\"].unique().tolist()"
   ]
  },
  {
   "cell_type": "code",
   "execution_count": 3,
   "metadata": {},
   "outputs": [],
   "source": [
    "# AdaBoost_raw = pd.read_csv(\"result_mp_adjust_adaboost.csv\")\n",
    "case0_raw = pd.read_csv(\"result_mp_adjust_case0.csv\")\n",
    "custom_raw = pd.read_csv(\"result_mp_adjust_product.csv\")\n",
    "\n",
    "# merge\n",
    "df = pd.concat([case0_raw, custom_raw], ignore_index=True)\n",
    "# remove invalid data\n",
    "df = df[(df[\"dist_error\"]!=0) | (df[\"dir_error\"]!=0) | (df[\"dir_ratio\"]!=0)]\n",
    "df = df[~df[\"dataset\"].isin(EXCLUDE)]\n",
    "\n",
    "# select parameters that have `dist_ratio` > 0.9 on test_case0\n",
    "acceptable = df[df[\"dataset\"] == \"../test_case0\"]\n",
    "acceptable = acceptable[acceptable[\"dir_ratio\"] > 0.9]\n",
    "acceptable = acceptable[[\n",
    "    'model_name',\n",
    "    'distance_frac_step',\n",
    "    'clean_data',\n",
    "    'optimized_mode_ratio',\n",
    "    'butter_Wn']]\n",
    "# acceptable = acceptable.drop_duplicates()\n",
    "# acceptable = acceptable.values.tolist()"
   ]
  },
  {
   "cell_type": "code",
   "execution_count": 4,
   "metadata": {},
   "outputs": [
    {
     "name": "stderr",
     "output_type": "stream",
     "text": [
      "100%|██████████| 94/94 [00:00<00:00, 218.17it/s]\n"
     ]
    }
   ],
   "source": [
    "# compare by dir_ratio, test_case0 has a weight of 50, others have a weight of 1\n",
    "\n",
    "# add weight\n",
    "df[\"weight\"] = 1\n",
    "# df.loc[df[\"dataset\"] == \"../test_case0\", \"weight\"] = 50\n",
    "\n",
    "# compare\n",
    "selected_args_ratio = []\n",
    "max_mean_dir_ratio = 0\n",
    "no_weight_ratio=0\n",
    "for args in tqdm(acceptable[['clean_data','optimized_mode_ratio','butter_Wn']].drop_duplicates().values.tolist()):\n",
    "    temp = df[\n",
    "        (df[\"clean_data\"] == args[0]) &\n",
    "        (df[\"optimized_mode_ratio\"] == args[1]) &\n",
    "        (df[\"butter_Wn\"] == args[2])\n",
    "    ]\n",
    "    if len(temp) == 0:\n",
    "        continue\n",
    "    mean_dir_ratio = (temp[\"dir_ratio\"] * temp[\"weight\"]).sum() / temp[\"weight\"].sum()\n",
    "    if mean_dir_ratio > max_mean_dir_ratio:\n",
    "        max_mean_dir_ratio = mean_dir_ratio\n",
    "        selected_args_ratio = args\n",
    "        no_weight_ratio = temp[\"dir_ratio\"].mean()"
   ]
  },
  {
   "cell_type": "code",
   "execution_count": 5,
   "metadata": {},
   "outputs": [
    {
     "name": "stdout",
     "output_type": "stream",
     "text": [
      "Best args: {\n",
      "    \"clean_data\": 4.0,\n",
      "    \"optimized_mode_ratio\": 0.8,\n",
      "    \"butter_Wn\": 0.005\n",
      "}\n",
      "Mean dir_ratio (with weight): 0.6984412625867368\n",
      "Mean dir_ratio (without weight): 0.6984412625867368\n"
     ]
    },
    {
     "data": {
      "text/html": [
       "<div>\n",
       "<style scoped>\n",
       "    .dataframe tbody tr th:only-of-type {\n",
       "        vertical-align: middle;\n",
       "    }\n",
       "\n",
       "    .dataframe tbody tr th {\n",
       "        vertical-align: top;\n",
       "    }\n",
       "\n",
       "    .dataframe thead th {\n",
       "        text-align: right;\n",
       "    }\n",
       "</style>\n",
       "<table border=\"1\" class=\"dataframe\">\n",
       "  <thead>\n",
       "    <tr style=\"text-align: right;\">\n",
       "      <th></th>\n",
       "      <th>dataset</th>\n",
       "      <th>dist_error</th>\n",
       "      <th>dir_error</th>\n",
       "      <th>dir_ratio</th>\n",
       "      <th>weight</th>\n",
       "    </tr>\n",
       "  </thead>\n",
       "  <tbody>\n",
       "    <tr>\n",
       "      <th>792641</th>\n",
       "      <td>Pocket-Walk/Pocket-Walk-09-001</td>\n",
       "      <td>340.527542</td>\n",
       "      <td>5.937972</td>\n",
       "      <td>0.932990</td>\n",
       "      <td>1</td>\n",
       "    </tr>\n",
       "    <tr>\n",
       "      <th>783569</th>\n",
       "      <td>Pocket-Walk/Pocket-Walk-09-001</td>\n",
       "      <td>284.906641</td>\n",
       "      <td>5.937972</td>\n",
       "      <td>0.932990</td>\n",
       "      <td>1</td>\n",
       "    </tr>\n",
       "    <tr>\n",
       "      <th>793289</th>\n",
       "      <td>Pocket-Walk/Pocket-Walk-09-001</td>\n",
       "      <td>284.906641</td>\n",
       "      <td>5.937972</td>\n",
       "      <td>0.932990</td>\n",
       "      <td>1</td>\n",
       "    </tr>\n",
       "    <tr>\n",
       "      <th>791993</th>\n",
       "      <td>Pocket-Walk/Pocket-Walk-09-001</td>\n",
       "      <td>65.077592</td>\n",
       "      <td>5.937972</td>\n",
       "      <td>0.932990</td>\n",
       "      <td>1</td>\n",
       "    </tr>\n",
       "    <tr>\n",
       "      <th>791345</th>\n",
       "      <td>Pocket-Walk/Pocket-Walk-09-001</td>\n",
       "      <td>83.678269</td>\n",
       "      <td>5.937972</td>\n",
       "      <td>0.932990</td>\n",
       "      <td>1</td>\n",
       "    </tr>\n",
       "    <tr>\n",
       "      <th>...</th>\n",
       "      <td>...</td>\n",
       "      <td>...</td>\n",
       "      <td>...</td>\n",
       "      <td>...</td>\n",
       "      <td>...</td>\n",
       "    </tr>\n",
       "    <tr>\n",
       "      <th>300809</th>\n",
       "      <td>Hand-Walk/Hand-Walk-02-007</td>\n",
       "      <td>46.641574</td>\n",
       "      <td>21.997415</td>\n",
       "      <td>0.484472</td>\n",
       "      <td>1</td>\n",
       "    </tr>\n",
       "    <tr>\n",
       "      <th>304697</th>\n",
       "      <td>Hand-Walk/Hand-Walk-02-007</td>\n",
       "      <td>59.463297</td>\n",
       "      <td>21.997415</td>\n",
       "      <td>0.484472</td>\n",
       "      <td>1</td>\n",
       "    </tr>\n",
       "    <tr>\n",
       "      <th>305345</th>\n",
       "      <td>Hand-Walk/Hand-Walk-02-007</td>\n",
       "      <td>60.388011</td>\n",
       "      <td>21.997415</td>\n",
       "      <td>0.484472</td>\n",
       "      <td>1</td>\n",
       "    </tr>\n",
       "    <tr>\n",
       "      <th>305993</th>\n",
       "      <td>Hand-Walk/Hand-Walk-02-007</td>\n",
       "      <td>52.832007</td>\n",
       "      <td>21.997415</td>\n",
       "      <td>0.484472</td>\n",
       "      <td>1</td>\n",
       "    </tr>\n",
       "    <tr>\n",
       "      <th>306641</th>\n",
       "      <td>Hand-Walk/Hand-Walk-02-007</td>\n",
       "      <td>55.924857</td>\n",
       "      <td>21.997415</td>\n",
       "      <td>0.484472</td>\n",
       "      <td>1</td>\n",
       "    </tr>\n",
       "  </tbody>\n",
       "</table>\n",
       "<p>594 rows × 5 columns</p>\n",
       "</div>"
      ],
      "text/plain": [
       "                               dataset  dist_error  dir_error  dir_ratio  \\\n",
       "792641  Pocket-Walk/Pocket-Walk-09-001  340.527542   5.937972   0.932990   \n",
       "783569  Pocket-Walk/Pocket-Walk-09-001  284.906641   5.937972   0.932990   \n",
       "793289  Pocket-Walk/Pocket-Walk-09-001  284.906641   5.937972   0.932990   \n",
       "791993  Pocket-Walk/Pocket-Walk-09-001   65.077592   5.937972   0.932990   \n",
       "791345  Pocket-Walk/Pocket-Walk-09-001   83.678269   5.937972   0.932990   \n",
       "...                                ...         ...        ...        ...   \n",
       "300809      Hand-Walk/Hand-Walk-02-007   46.641574  21.997415   0.484472   \n",
       "304697      Hand-Walk/Hand-Walk-02-007   59.463297  21.997415   0.484472   \n",
       "305345      Hand-Walk/Hand-Walk-02-007   60.388011  21.997415   0.484472   \n",
       "305993      Hand-Walk/Hand-Walk-02-007   52.832007  21.997415   0.484472   \n",
       "306641      Hand-Walk/Hand-Walk-02-007   55.924857  21.997415   0.484472   \n",
       "\n",
       "        weight  \n",
       "792641       1  \n",
       "783569       1  \n",
       "793289       1  \n",
       "791993       1  \n",
       "791345       1  \n",
       "...        ...  \n",
       "300809       1  \n",
       "304697       1  \n",
       "305345       1  \n",
       "305993       1  \n",
       "306641       1  \n",
       "\n",
       "[594 rows x 5 columns]"
      ]
     },
     "execution_count": 5,
     "metadata": {},
     "output_type": "execute_result"
    }
   ],
   "source": [
    "print('Best args: '+json.dumps({\n",
    "    \"clean_data\": selected_args_ratio[0],\n",
    "    \"optimized_mode_ratio\": selected_args_ratio[1],\n",
    "    \"butter_Wn\": selected_args_ratio[2]\n",
    "}, indent=4))\n",
    "print('Mean dir_ratio (with weight): '+ str(max_mean_dir_ratio))\n",
    "print('Mean dir_ratio (without weight): '+ str(no_weight_ratio))\n",
    "df[\n",
    "    (df[\"clean_data\"] == selected_args_ratio[0]) &\n",
    "    (df[\"optimized_mode_ratio\"] == selected_args_ratio[1]) &\n",
    "    (df[\"butter_Wn\"] == selected_args_ratio[2])\n",
    "][[\"dataset\", \"dist_error\", \"dir_error\", \"dir_ratio\", \"weight\"]].sort_values('dir_ratio', ascending=False).reindex()"
   ]
  },
  {
   "cell_type": "code",
   "execution_count": 9,
   "metadata": {},
   "outputs": [
    {
     "data": {
      "text/plain": [
       "29"
      ]
     },
     "execution_count": 9,
     "metadata": {},
     "output_type": "execute_result"
    }
   ],
   "source": [
    "len(pd.read_csv(\"result.csv\")[\"dataset\"])-len(EXCLUDE)"
   ]
  }
 ],
 "metadata": {
  "kernelspec": {
   "display_name": "Python 3.9.15 ('pdr')",
   "language": "python",
   "name": "python3"
  },
  "language_info": {
   "codemirror_mode": {
    "name": "ipython",
    "version": 3
   },
   "file_extension": ".py",
   "mimetype": "text/x-python",
   "name": "python",
   "nbconvert_exporter": "python",
   "pygments_lexer": "ipython3",
   "version": "3.9.15"
  },
  "orig_nbformat": 4,
  "vscode": {
   "interpreter": {
    "hash": "3d4c01d0e8c7d62d82bc6c73b3fb60f742ee53f6884245df18af0f9194a819ee"
   }
  }
 },
 "nbformat": 4,
 "nbformat_minor": 2
}
